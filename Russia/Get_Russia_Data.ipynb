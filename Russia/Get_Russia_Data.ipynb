{
 "cells": [
  {
   "cell_type": "code",
   "execution_count": 1,
   "metadata": {
    "collapsed": true
   },
   "outputs": [],
   "source": [
    "import os \n",
    "import codecs\n",
    "from lxml import etree"
   ]
  },
  {
   "cell_type": "markdown",
   "metadata": {},
   "source": [
    "# Split cn_dict.txt into small pieces"
   ]
  },
  {
   "cell_type": "code",
   "execution_count": 3,
   "metadata": {
    "collapsed": false
   },
   "outputs": [],
   "source": [
    "# This function split a big file into small pieces through lines \n",
    "\n",
    "splitLen = 500         # 100 lines per file\n",
    "outputBase = 'cn_dict_' # output.1.txt, output.2.txt, etc.\n",
    "\n",
    "with open('../../CN_Dict/cn_dict.txt', 'r') as input:\n",
    "\n",
    "    count = 0\n",
    "    at = 0\n",
    "    dest = None\n",
    "    for line in input:\n",
    "        if count % splitLen == 0:\n",
    "            if dest: dest.close()\n",
    "            dest = open('../../CN_Dict/' + outputBase + str(at) + '.txt', 'w')\n",
    "            at += 1\n",
    "        dest.write(line)\n",
    "        count += 1\n",
    "    \n",
    "    dest.close()"
   ]
  },
  {
   "cell_type": "markdown",
   "metadata": {},
   "source": [
    "# Format url_pool"
   ]
  },
  {
   "cell_type": "code",
   "execution_count": 2,
   "metadata": {
    "collapsed": false
   },
   "outputs": [],
   "source": [
    "input_fname = \"../../CN_Dict/cn_dict_6.txt\"\n",
    "output_fname = \"./Url/url_pools.txt\"\n",
    "\n",
    "\n",
    "with open(input_fname, 'r') as cn_dict, \\\n",
    "    open(output_fname, 'w') as url_pools:\n",
    "    \n",
    "    for cn_word in cn_dict:\n",
    "\n",
    "        init_url = \"http://juku.yicool.cn/fn/ajax/ajax_SentenceInfo.ashx?word=\" \n",
    "        concat_url = init_url + cn_word.strip() + \"&page=1\"\n",
    "        \n",
    "        url_pools.write(concat_url + '\\n')"
   ]
  },
  {
   "cell_type": "code",
   "execution_count": 4,
   "metadata": {
    "collapsed": false
   },
   "outputs": [
    {
     "name": "stdout",
     "output_type": "stream",
     "text": [
      "{'ip_port': '119.188.94.145:80', 'user_pass': ''},\n",
      "{'ip_port': '110.87.125.140:8888', 'user_pass': ''},\n",
      "{'ip_port': '39.78.132.255:8888', 'user_pass': ''},\n",
      "{'ip_port': '59.39.88.190:8080', 'user_pass': ''},\n",
      "{'ip_port': '122.225.106.36:80', 'user_pass': ''},\n",
      "{'ip_port': '120.39.78.89:8888', 'user_pass': ''},\n",
      "{'ip_port': '60.9.239.38:8888', 'user_pass': ''},\n",
      "{'ip_port': '39.84.133.184:8888', 'user_pass': ''},\n",
      "{'ip_port': '124.88.67.21:843', 'user_pass': ''},\n",
      "{'ip_port': '115.231.162.216:3128', 'user_pass': ''},\n",
      "{'ip_port': '123.138.216.94:9999', 'user_pass': ''},\n",
      "{'ip_port': '61.162.223.41:9797', 'user_pass': ''},\n",
      "{'ip_port': '139.196.204.160:3128', 'user_pass': ''},\n",
      "{'ip_port': '122.225.107.145:80', 'user_pass': ''},\n",
      "{'ip_port': '122.225.106.36:80', 'user_pass': ''},\n",
      "{'ip_port': '58.247.125.205:80', 'user_pass': ''},\n",
      "{'ip_port': '122.225.106.35:80', 'user_pass': ''},\n",
      "{'ip_port': '14.23.109.2:3128', 'user_pass': ''},\n",
      "{'ip_port': '210.254.22.13:8080', 'user_pass': ''},\n",
      "{'ip_port': '94.245.142.110:3128', 'user_pass': ''},\n",
      "{'ip_port': '46.218.85.101:3129', 'user_pass': ''},\n",
      "{'ip_port': '62.165.42.170:8080', 'user_pass': ''},\n",
      "{'ip_port': '89.34.97.132:8080', 'user_pass': ''},\n",
      "{'ip_port': '167.206.113.234:3128', 'user_pass': ''},\n",
      "{'ip_port': '168.187.10.213:8080', 'user_pass': ''},\n",
      "{'ip_port': '182.89.26.147:8118', 'user_pass': ''},\n",
      "{'ip_port': '110.187.13.143:8888', 'user_pass': ''},\n",
      "{'ip_port': '110.177.57.81:8888', 'user_pass': ''},\n",
      "{'ip_port': '210.44.128.140:80', 'user_pass': ''},\n",
      "{'ip_port': '119.53.128.181:8118', 'user_pass': ''},\n",
      "{'ip_port': '123.57.190.51:7777', 'user_pass': ''},\n",
      "{'ip_port': '119.188.94.145:80', 'user_pass': ''},\n",
      "{'ip_port': '111.194.49.145:8888', 'user_pass': ''},\n",
      "{'ip_port': '123.166.4.119:8888', 'user_pass': ''},\n",
      "{'ip_port': '139.201.184.73:8888', 'user_pass': ''},\n",
      "{'ip_port': '58.243.0.162:9999', 'user_pass': ''},\n",
      "{'ip_port': '113.200.214.163:9999', 'user_pass': ''},\n",
      "{'ip_port': '124.115.211.30:9999', 'user_pass': ''},\n",
      "{'ip_port': '114.80.72.174:80', 'user_pass': ''},\n",
      "{'ip_port': '58.67.159.50:80', 'user_pass': ''},\n",
      "{'ip_port': '210.13.102.81:8080', 'user_pass': ''},\n",
      "{'ip_port': '112.65.200.211:80', 'user_pass': ''},\n",
      "{'ip_port': '59.39.88.190:8080', 'user_pass': ''},\n",
      "{'ip_port': '58.247.125.205:80', 'user_pass': ''},\n",
      "{'ip_port': '62.165.42.170:8080', 'user_pass': ''},\n",
      "{'ip_port': '107.151.136.210:80', 'user_pass': ''},\n",
      "{'ip_port': '45.62.246.212:8080', 'user_pass': ''},\n",
      "{'ip_port': '46.218.85.101:3129', 'user_pass': ''},\n",
      "{'ip_port': '107.151.152.210:80', 'user_pass': ''},\n",
      "{'ip_port': '14.139.213.183:3128', 'user_pass': ''},\n",
      "{'ip_port': '210.254.22.13:8080', 'user_pass': ''},\n",
      "{'ip_port': '31.173.74.73:8080', 'user_pass': ''},\n",
      "{'ip_port': '125.24.69.61:8080', 'user_pass': ''},\n",
      "{'ip_port': '125.24.109.53:8080', 'user_pass': ''},\n",
      "{'ip_port': '178.62.33.140:3128', 'user_pass': ''},\n",
      "{'ip_port': '5.255.92.215:5555', 'user_pass': ''},\n",
      "{'ip_port': '54.169.249.192:60000', 'user_pass': ''},\n",
      "{'ip_port': '107.151.136.212:80', 'user_pass': ''},\n"
     ]
    }
   ],
   "source": [
    "PROXY_LIST = []\n",
    "with open('../IP_Detect/ip_pools.txt', 'r') as ip_pools, \\\n",
    "    open('./proxies.txt', 'w') as proxies:\n",
    "        \n",
    "    for line in ip_pools:\n",
    "        line = line.strip().strip('{').strip('}')\n",
    "        # print line\n",
    "        ip_info = line.split(\"'\")\n",
    "        # print ip_info\n",
    "        key = 'ip_port'\n",
    "        value = ip_info[3].split('//')[1]\n",
    "        # print value\n",
    "        key_1 = 'user_pass'\n",
    "        value_1 = ''\n",
    "        ip_dict = {key: value, key_1: value_1}\n",
    "        print str(ip_dict) + ','\n",
    "        "
   ]
  },
  {
   "cell_type": "markdown",
   "metadata": {
    "collapsed": true
   },
   "source": [
    "# Expand URLs "
   ]
  },
  {
   "cell_type": "code",
   "execution_count": 13,
   "metadata": {
    "collapsed": false
   },
   "outputs": [],
   "source": [
    "import os \n",
    "\n",
    "fnames = os.listdir('./Pagenum/')\n",
    "for fname in fnames :\n",
    "    # print fname\n",
    "    file_num = fname.split('.')[0][-1]\n",
    "    urlExpand = 'urlExpand_' + str(file_num)\n",
    "    # print urlExpand\n",
    "    # print file_num\n",
    "    with open('./Pagenum/' + fname, 'r') as pageNum, \\\n",
    "        open('./Url/' + urlExpand, 'w') as urlExpand :\n",
    "            for line in pageNum :\n",
    "                # print line\n",
    "                url_info = line.strip().split(' ')\n",
    "                init_url = url_info[0][:-7]\n",
    "                numOfPage = int(url_info[1])\n",
    "                # print init_url\n",
    "        \n",
    "                for i in range(1,numOfPage+1):\n",
    "                    concat_url = init_url + '&page=' + str(i)\n",
    "                    urlExpand.write(concat_url + '\\n')"
   ]
  },
  {
   "cell_type": "code",
   "execution_count": 15,
   "metadata": {
    "collapsed": true
   },
   "outputs": [],
   "source": [
    "# This function split a big file into small pieces through lines \n",
    "\n",
    "splitLen = 5000         # 5000 lines per file\n",
    "outputBase = 'urlExpand_0_' # output.1.txt, output.2.txt, etc.\n",
    "\n",
    "with open('./Url/urlExpand_0', 'r') as input:\n",
    "\n",
    "    count = 0\n",
    "    at = 0\n",
    "    dest = None\n",
    "    for line in input:\n",
    "        if count % splitLen == 0:\n",
    "            if dest: dest.close()\n",
    "            dest = open('./Url/split/' + outputBase + str(at) + '.txt', 'w')\n",
    "            at += 1\n",
    "        dest.write(line)\n",
    "        count += 1\n",
    "    \n",
    "    dest.close()"
   ]
  },
  {
   "cell_type": "code",
   "execution_count": null,
   "metadata": {
    "collapsed": true
   },
   "outputs": [],
   "source": []
  }
 ],
 "metadata": {
  "kernelspec": {
   "display_name": "Python 2",
   "language": "python",
   "name": "python2"
  },
  "language_info": {
   "codemirror_mode": {
    "name": "ipython",
    "version": 2
   },
   "file_extension": ".py",
   "mimetype": "text/x-python",
   "name": "python",
   "nbconvert_exporter": "python",
   "pygments_lexer": "ipython2",
   "version": "2.7.10"
  }
 },
 "nbformat": 4,
 "nbformat_minor": 0
}
